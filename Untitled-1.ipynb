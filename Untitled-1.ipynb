{
 "cells": [
  {
   "cell_type": "code",
   "execution_count": 1,
   "metadata": {},
   "outputs": [],
   "source": [
    "import numpy as np\n",
    "import matplotlib.pyplot as plt\n",
    "\n",
    "import keras\n",
    "\n",
    "from tensorflow.keras.utils import to_categorical\n",
    "\n",
    "from keras.datasets import mnist\n",
    "\n",
    "from keras.models import Sequential\n",
    "from keras.layers import Dense, Conv2D, MaxPool2D, Flatten, Dropout"
   ]
  },
  {
   "cell_type": "markdown",
   "metadata": {},
   "source": [
    "Get Data"
   ]
  },
  {
   "cell_type": "code",
   "execution_count": 2,
   "metadata": {},
   "outputs": [
    {
     "data": {
      "text/plain": [
       "((60000, 28, 28), (60000,), (10000, 28, 28), (10000,))"
      ]
     },
     "execution_count": 2,
     "metadata": {},
     "output_type": "execute_result"
    }
   ],
   "source": [
    "(X_train, y_train), (X_test, y_test) = mnist.load_data()\n",
    "X_train.shape, y_train.shape, X_test.shape, y_test.shape"
   ]
  },
  {
   "cell_type": "markdown",
   "metadata": {},
   "source": [
    "Funk to show train data"
   ]
  },
  {
   "cell_type": "code",
   "execution_count": 3,
   "metadata": {},
   "outputs": [
    {
     "data": {
      "image/png": "[encoded data removed]",
      "text/plain": [
       "<Figure size 432x288 with 1 Axes>"
      ]
     },
     "metadata": {
      "needs_background": "light"
     },
     "output_type": "display_data"
    }
   ],
   "source": [
    "def train_img(i):\n",
    "    plt.imshow(X_train[i], cmap='binary')\n",
    "    plt.title(y_train[i])\n",
    "    plt.show()\n",
    "\n",
    "train_img(2)"
   ]
  },
  {
   "cell_type": "markdown",
   "metadata": {},
   "source": [
    "Pre-Process images"
   ]
  },
  {
   "cell_type": "code",
   "execution_count": 4,
   "metadata": {},
   "outputs": [
    {
     "data": {
      "text/plain": [
       "(60000, 28, 28, 1)"
      ]
     },
     "execution_count": 4,
     "metadata": {},
     "output_type": "execute_result"
    }
   ],
   "source": [
    "#Normalizing image to [0,1] range\n",
    "X_train = X_train.astype(np.float32)/255\n",
    "X_test = X_test.astype(np.float32)/255\n",
    "\n",
    "#Reshape / expand dimentions to (28.28.1)\n",
    "X_train = np.expand_dims(X_train, -1)\n",
    "X_test = np.expand_dims(X_test, -1)\n",
    "\n",
    "X_train.shape"
   ]
  },
  {
   "cell_type": "code",
   "execution_count": 5,
   "metadata": {},
   "outputs": [
    {
     "data": {
      "text/plain": [
       "array([[0., 0., 0., ..., 0., 0., 0.],\n",
       "       [1., 0., 0., ..., 0., 0., 0.],\n",
       "       [0., 0., 0., ..., 0., 0., 0.],\n",
       "       ...,\n",
       "       [0., 0., 0., ..., 0., 0., 0.],\n",
       "       [0., 0., 0., ..., 0., 0., 0.],\n",
       "       [0., 0., 0., ..., 0., 1., 0.]], dtype=float32)"
      ]
     },
     "execution_count": 5,
     "metadata": {},
     "output_type": "execute_result"
    }
   ],
   "source": [
    "#Convert classes to one hot vectors ERROR\n",
    "y_train = to_categorical(y_train)\n",
    "\n",
    "y_test = to_categorical(y_test)\n",
    "\n",
    "y_train"
   ]
  },
  {
   "cell_type": "code",
   "execution_count": 6,
   "metadata": {},
   "outputs": [
    {
     "name": "stdout",
     "output_type": "stream",
     "text": [
      "Model: \"sequential\"\n",
      "_________________________________________________________________\n",
      " Layer (type)                Output Shape              Param #   \n",
      "=================================================================\n",
      " conv2d (Conv2D)             (None, 26, 26, 32)        320       \n",
      "                                                                 \n",
      " max_pooling2d (MaxPooling2D  (None, 13, 13, 32)       0         \n",
      " )                                                               \n",
      "                                                                 \n",
      " conv2d_1 (Conv2D)           (None, 11, 11, 64)        18496     \n",
      "                                                                 \n",
      " max_pooling2d_1 (MaxPooling  (None, 5, 5, 64)         0         \n",
      " 2D)                                                             \n",
      "                                                                 \n",
      " flatten (Flatten)           (None, 1600)              0         \n",
      "                                                                 \n",
      " dropout (Dropout)           (None, 1600)              0         \n",
      "                                                                 \n",
      " dense (Dense)               (None, 10)                16010     \n",
      "                                                                 \n",
      "=================================================================\n",
      "Total params: 34,826\n",
      "Trainable params: 34,826\n",
      "Non-trainable params: 0\n",
      "_________________________________________________________________\n"
     ]
    }
   ],
   "source": [
    "model = Sequential()\n",
    "\n",
    "#for 1 dense\n",
    "from keras.layers import InputLayer\n",
    "#model.add(InputLayer(input_shape=(28,28,1)))\n",
    "#model.add(Flatten())\n",
    "#model.add(Dropout(0.25))\n",
    "#model.add(Dense(10, activation=\"softmax\"))\n",
    "\n",
    "\n",
    "\n",
    "model.add(Conv2D(32,(3,3), input_shape=(28,28,1), activation='relu'))\n",
    "model.add(MaxPool2D((2,2)))\n",
    "\n",
    "model.add(Conv2D(64,(3,3), activation='relu'))\n",
    "model.add(MaxPool2D((2,2)))\n",
    "\n",
    "#model.add(Conv2D(128,(3,3), activation='relu'))\n",
    "#model.add(MaxPool2D((2,2)))\n",
    "\n",
    "model.add(Flatten())\n",
    "model.add(Dropout(0.25))\n",
    "\n",
    "model.add(Dense(10, activation=\"softmax\"))\n",
    "\n",
    "model.summary()"
   ]
  },
  {
   "cell_type": "code",
   "execution_count": 7,
   "metadata": {},
   "outputs": [],
   "source": [
    "import tensorflow as tf\n",
    "\n",
    "model.compile(optimizer='adam', loss = tf.keras.losses.categorical_crossentropy, metrics=['accuracy'])"
   ]
  },
  {
   "cell_type": "code",
   "execution_count": 8,
   "metadata": {},
   "outputs": [
    {
     "data": {
      "image/png": "[encoded data removed]",
      "text/plain": [
       "<IPython.core.display.Image object>"
      ]
     },
     "execution_count": 8,
     "metadata": {},
     "output_type": "execute_result"
    }
   ],
   "source": [
    "from keras.utils.vis_utils import plot_model\n",
    "plot_model(model, to_file='model_1.png', show_shapes=True)"
   ]
  },
  {
   "cell_type": "code",
   "execution_count": 9,
   "metadata": {},
   "outputs": [],
   "source": [
    "#Callbacks\n",
    "\n",
    "from keras.callbacks import EarlyStopping, ModelCheckpoint\n",
    "\n",
    "\n",
    "\n",
    "#Model Check Point\n",
    "mc = ModelCheckpoint(\"./besmodel2Conv.h5\", monitor='val_accuracy', verbose=1, save_best_only=True)\n",
    "\n",
    "cb = [mc]"
   ]
  },
  {
   "cell_type": "markdown",
   "metadata": {},
   "source": [
    "Model Training"
   ]
  },
  {
   "cell_type": "code",
   "execution_count": 10,
   "metadata": {},
   "outputs": [
    {
     "name": "stdout",
     "output_type": "stream",
     "text": [
      "Epoch 1/10\n",
      "1313/1313 [==============================] - ETA: 0s - loss: 0.2161 - accuracy: 0.9335\n",
      "Epoch 00001: val_accuracy improved from -inf to 0.97378, saving model to .\\besmodel2Conv.h5\n",
      "1313/1313 [==============================] - 18s 13ms/step - loss: 0.2161 - accuracy: 0.9335 - val_loss: 0.0871 - val_accuracy: 0.9738\n",
      "Epoch 2/10\n",
      "1309/1313 [============================>.] - ETA: 0s - loss: 0.0733 - accuracy: 0.9776\n",
      "Epoch 00002: val_accuracy improved from 0.97378 to 0.98089, saving model to .\\besmodel2Conv.h5\n",
      "1313/1313 [==============================] - 16s 13ms/step - loss: 0.0734 - accuracy: 0.9775 - val_loss: 0.0618 - val_accuracy: 0.9809\n",
      "Epoch 3/10\n",
      "1310/1313 [============================>.] - ETA: 0s - loss: 0.0560 - accuracy: 0.9823\n",
      "Epoch 00003: val_accuracy improved from 0.98089 to 0.98400, saving model to .\\besmodel2Conv.h5\n",
      "1313/1313 [==============================] - 16s 13ms/step - loss: 0.0560 - accuracy: 0.9823 - val_loss: 0.0503 - val_accuracy: 0.9840\n",
      "Epoch 4/10\n",
      "1309/1313 [============================>.] - ETA: 0s - loss: 0.0457 - accuracy: 0.9860\n",
      "Epoch 00004: val_accuracy improved from 0.98400 to 0.98628, saving model to .\\besmodel2Conv.h5\n",
      "1313/1313 [==============================] - 16s 13ms/step - loss: 0.0456 - accuracy: 0.9860 - val_loss: 0.0447 - val_accuracy: 0.9863\n",
      "Epoch 5/10\n",
      "1309/1313 [============================>.] - ETA: 0s - loss: 0.0379 - accuracy: 0.9878\n",
      "Epoch 00005: val_accuracy improved from 0.98628 to 0.98750, saving model to .\\besmodel2Conv.h5\n",
      "1313/1313 [==============================] - 16s 13ms/step - loss: 0.0380 - accuracy: 0.9877 - val_loss: 0.0399 - val_accuracy: 0.9875\n",
      "Epoch 6/10\n",
      "1309/1313 [============================>.] - ETA: 0s - loss: 0.0324 - accuracy: 0.9899\n",
      "Epoch 00006: val_accuracy improved from 0.98750 to 0.98789, saving model to .\\besmodel2Conv.h5\n",
      "1313/1313 [==============================] - 16s 13ms/step - loss: 0.0325 - accuracy: 0.9898 - val_loss: 0.0403 - val_accuracy: 0.9879\n",
      "Epoch 7/10\n",
      "1311/1313 [============================>.] - ETA: 0s - loss: 0.0295 - accuracy: 0.9903\n",
      "Epoch 00007: val_accuracy improved from 0.98789 to 0.98856, saving model to .\\besmodel2Conv.h5\n",
      "1313/1313 [==============================] - 16s 13ms/step - loss: 0.0295 - accuracy: 0.9903 - val_loss: 0.0399 - val_accuracy: 0.9886\n",
      "Epoch 8/10\n",
      "1312/1313 [============================>.] - ETA: 0s - loss: 0.0250 - accuracy: 0.9919\n",
      "Epoch 00008: val_accuracy improved from 0.98856 to 0.98894, saving model to .\\besmodel2Conv.h5\n",
      "1313/1313 [==============================] - 17s 13ms/step - loss: 0.0250 - accuracy: 0.9919 - val_loss: 0.0387 - val_accuracy: 0.9889\n",
      "Epoch 9/10\n",
      "1313/1313 [==============================] - ETA: 0s - loss: 0.0224 - accuracy: 0.9925\n",
      "Epoch 00009: val_accuracy improved from 0.98894 to 0.98950, saving model to .\\besmodel2Conv.h5\n",
      "1313/1313 [==============================] - 17s 13ms/step - loss: 0.0224 - accuracy: 0.9925 - val_loss: 0.0357 - val_accuracy: 0.9895\n",
      "Epoch 10/10\n",
      "1311/1313 [============================>.] - ETA: 0s - loss: 0.0197 - accuracy: 0.9933\n",
      "Epoch 00010: val_accuracy did not improve from 0.98950\n",
      "1313/1313 [==============================] - 16s 13ms/step - loss: 0.0197 - accuracy: 0.9933 - val_loss: 0.0370 - val_accuracy: 0.9879\n"
     ]
    }
   ],
   "source": [
    "his = model.fit(X_train, y_train, epochs=10, validation_split=0.3, callbacks=cb, verbose=True)"
   ]
  },
  {
   "cell_type": "code",
   "execution_count": 11,
   "metadata": {},
   "outputs": [],
   "source": [
    "Saved_model = tf.keras.models.load_model(\"D:\\\\NeironTest\\\\venv\\\\Guide\\\\besmodel2Conv.h5\")"
   ]
  },
  {
   "cell_type": "code",
   "execution_count": 12,
   "metadata": {},
   "outputs": [
    {
     "name": "stdout",
     "output_type": "stream",
     "text": [
      "313/313 [==============================] - 1s 4ms/step - loss: 0.0317 - accuracy: 0.9899\n",
      "Model accuracy is 0.9898999929428101\n"
     ]
    }
   ],
   "source": [
    "score = Saved_model.evaluate(X_test, y_test)\n",
    "\n",
    "print(f\"Model accuracy is {score[1]}\")"
   ]
  },
  {
   "cell_type": "code",
   "execution_count": null,
   "metadata": {},
   "outputs": [],
   "source": []
  }
 ],
 "metadata": {
  "interpreter": {
   "hash": "68b70efcfb0c35624e4465f53d1cf3b2c88a317b40f8cb442898d1bdb9686926"
  },
  "kernelspec": {
   "display_name": "Python 3.8.10 64-bit",
   "language": "python",
   "name": "python3"
  },
  "language_info": {
   "codemirror_mode": {
    "name": "ipython",
    "version": 3
   },
   "file_extension": ".py",
   "mimetype": "text/x-python",
   "name": "python",
   "nbconvert_exporter": "python",
   "pygments_lexer": "ipython3",
   "version": "3.8.10"
  },
  "orig_nbformat": 4
 },
 "nbformat": 4,
 "nbformat_minor": 2
}
